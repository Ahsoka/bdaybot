{
 "cells": [
  {
   "cell_type": "code",
   "execution_count": 1,
   "metadata": {},
   "outputs": [],
   "source": [
    "import pandas as pd"
   ]
  },
  {
   "cell_type": "code",
   "execution_count": 2,
   "metadata": {},
   "outputs": [],
   "source": [
    "import datetime"
   ]
  },
  {
   "cell_type": "code",
   "execution_count": 3,
   "metadata": {},
   "outputs": [],
   "source": [
    "df = pd.read_csv('beta_bdays.csv')"
   ]
  },
  {
   "cell_type": "code",
   "execution_count": 4,
   "metadata": {},
   "outputs": [
    {
     "name": "stdout",
     "output_type": "stream",
     "text": [
      "<class 'pandas.core.frame.DataFrame'>\n",
      "RangeIndex: 143 entries, 0 to 142\n",
      "Data columns (total 11 columns):\n",
      " #   Column        Non-Null Count  Dtype \n",
      "---  ------        --------------  ----- \n",
      " 0   StuID         143 non-null    int64 \n",
      " 1   FirstName     143 non-null    object\n",
      " 2   LastName      143 non-null    object\n",
      " 3   PeriodNumber  143 non-null    int64 \n",
      " 4   Birthdate     143 non-null    object\n",
      " 5   Birthyear     143 non-null    int64 \n",
      " 6   Radio         135 non-null    object\n",
      " 7   Question#1    140 non-null    object\n",
      " 8   Question#2    142 non-null    object\n",
      " 9   Question#3    142 non-null    object\n",
      " 10  Timedelta     143 non-null    object\n",
      "dtypes: int64(3), object(8)\n",
      "memory usage: 12.4+ KB\n"
     ]
    }
   ],
   "source": [
    "df.info()"
   ]
  },
  {
   "cell_type": "code",
   "execution_count": 5,
   "metadata": {
    "scrolled": true
   },
   "outputs": [],
   "source": [
    "df['Birthdate'], df['Timedelta'] = pd.to_datetime(df['Birthdate']), pd.to_timedelta(df['Timedelta'])"
   ]
  },
  {
   "cell_type": "code",
   "execution_count": 6,
   "metadata": {
    "scrolled": true
   },
   "outputs": [
    {
     "name": "stdout",
     "output_type": "stream",
     "text": [
      "<class 'pandas.core.frame.DataFrame'>\n",
      "RangeIndex: 143 entries, 0 to 142\n",
      "Data columns (total 11 columns):\n",
      " #   Column        Non-Null Count  Dtype          \n",
      "---  ------        --------------  -----          \n",
      " 0   StuID         143 non-null    int64          \n",
      " 1   FirstName     143 non-null    object         \n",
      " 2   LastName      143 non-null    object         \n",
      " 3   PeriodNumber  143 non-null    int64          \n",
      " 4   Birthdate     143 non-null    datetime64[ns] \n",
      " 5   Birthyear     143 non-null    int64          \n",
      " 6   Radio         135 non-null    object         \n",
      " 7   Question#1    140 non-null    object         \n",
      " 8   Question#2    142 non-null    object         \n",
      " 9   Question#3    142 non-null    object         \n",
      " 10  Timedelta     143 non-null    timedelta64[ns]\n",
      "dtypes: datetime64[ns](1), int64(3), object(6), timedelta64[ns](1)\n",
      "memory usage: 12.4+ KB\n"
     ]
    }
   ],
   "source": [
    "df.info()"
   ]
  },
  {
   "cell_type": "code",
   "execution_count": 7,
   "metadata": {},
   "outputs": [
    {
     "data": {
      "text/plain": [
       "(143, 11)"
      ]
     },
     "execution_count": 7,
     "metadata": {},
     "output_type": "execute_result"
    }
   ],
   "source": [
    "df.shape"
   ]
  },
  {
   "cell_type": "code",
   "execution_count": 8,
   "metadata": {},
   "outputs": [
    {
     "name": "stdout",
     "output_type": "stream",
     "text": [
      "2020-06-17\n"
     ]
    }
   ],
   "source": [
    "print(datetime.date.today())"
   ]
  },
  {
   "cell_type": "code",
   "execution_count": 9,
   "metadata": {},
   "outputs": [
    {
     "data": {
      "text/plain": [
       "Timestamp('2020-06-17 00:00:00')"
      ]
     },
     "execution_count": 9,
     "metadata": {},
     "output_type": "execute_result"
    }
   ],
   "source": [
    "df.iloc[0, 4]"
   ]
  },
  {
   "cell_type": "code",
   "execution_count": 10,
   "metadata": {},
   "outputs": [
    {
     "data": {
      "text/plain": [
       "2020-12-08    3\n",
       "2020-05-08    3\n",
       "2020-02-24    3\n",
       "2020-12-11    3\n",
       "2020-12-10    3\n",
       "             ..\n",
       "2020-05-03    1\n",
       "2020-03-05    1\n",
       "2020-02-03    1\n",
       "2020-01-03    1\n",
       "2020-09-22    1\n",
       "Name: Birthdate, Length: 118, dtype: int64"
      ]
     },
     "execution_count": 10,
     "metadata": {},
     "output_type": "execute_result"
    }
   ],
   "source": [
    "df['Birthdate'].value_counts()"
   ]
  },
  {
   "cell_type": "code",
   "execution_count": 11,
   "metadata": {},
   "outputs": [],
   "source": [
    "today = [datetime.date.today()]"
   ]
  },
  {
   "cell_type": "code",
   "execution_count": 12,
   "metadata": {
    "scrolled": true
   },
   "outputs": [
    {
     "name": "stdout",
     "output_type": "stream",
     "text": [
      "2020-06-17\n"
     ]
    }
   ],
   "source": [
    "print(datetime.date.today())"
   ]
  },
  {
   "cell_type": "code",
   "execution_count": 13,
   "metadata": {},
   "outputs": [],
   "source": [
    "filt = df['Birthdate'].isin(today)"
   ]
  },
  {
   "cell_type": "code",
   "execution_count": 14,
   "metadata": {},
   "outputs": [
    {
     "data": {
      "text/plain": [
       "0   2020-06-17\n",
       "Name: Birthdate, dtype: datetime64[ns]"
      ]
     },
     "execution_count": 14,
     "metadata": {},
     "output_type": "execute_result"
    }
   ],
   "source": [
    "# this is a series\n",
    "df.loc[filt, 'Birthdate']"
   ]
  },
  {
   "cell_type": "code",
   "execution_count": 15,
   "metadata": {
    "scrolled": true
   },
   "outputs": [
    {
     "data": {
      "text/plain": [
       "pandas.core.series.Series"
      ]
     },
     "execution_count": 15,
     "metadata": {},
     "output_type": "execute_result"
    }
   ],
   "source": [
    "type(df['Birthdate'].isin(today))"
   ]
  },
  {
   "cell_type": "code",
   "execution_count": 16,
   "metadata": {},
   "outputs": [
    {
     "data": {
      "text/html": [
       "<div>\n",
       "<style scoped>\n",
       "    .dataframe tbody tr th:only-of-type {\n",
       "        vertical-align: middle;\n",
       "    }\n",
       "\n",
       "    .dataframe tbody tr th {\n",
       "        vertical-align: top;\n",
       "    }\n",
       "\n",
       "    .dataframe thead th {\n",
       "        text-align: right;\n",
       "    }\n",
       "</style>\n",
       "<table border=\"1\" class=\"dataframe\">\n",
       "  <thead>\n",
       "    <tr style=\"text-align: right;\">\n",
       "      <th></th>\n",
       "      <th>StuID</th>\n",
       "      <th>FirstName</th>\n",
       "      <th>LastName</th>\n",
       "      <th>PeriodNumber</th>\n",
       "      <th>Birthdate</th>\n",
       "      <th>Birthyear</th>\n",
       "      <th>Radio</th>\n",
       "      <th>Question#1</th>\n",
       "      <th>Question#2</th>\n",
       "      <th>Question#3</th>\n",
       "      <th>Timedelta</th>\n",
       "    </tr>\n",
       "  </thead>\n",
       "  <tbody>\n",
       "    <tr>\n",
       "      <th>0</th>\n",
       "      <td>415656</td>\n",
       "      <td>Brian</td>\n",
       "      <td>Cha</td>\n",
       "      <td>2</td>\n",
       "      <td>2020-06-17</td>\n",
       "      <td>2003</td>\n",
       "      <td>¯_(ツ)_/¯</td>\n",
       "      <td>In N Out</td>\n",
       "      <td>not getting my work done</td>\n",
       "      <td>procrastinating</td>\n",
       "      <td>0 days</td>\n",
       "    </tr>\n",
       "  </tbody>\n",
       "</table>\n",
       "</div>"
      ],
      "text/plain": [
       "    StuID FirstName LastName  PeriodNumber  Birthdate  Birthyear     Radio  \\\n",
       "0  415656     Brian      Cha             2 2020-06-17       2003  ¯_(ツ)_/¯   \n",
       "\n",
       "  Question#1                Question#2       Question#3 Timedelta  \n",
       "0   In N Out  not getting my work done  procrastinating    0 days  "
      ]
     },
     "execution_count": 16,
     "metadata": {},
     "output_type": "execute_result"
    }
   ],
   "source": [
    "df[filt]"
   ]
  },
  {
   "cell_type": "markdown",
   "metadata": {},
   "source": [
    "#### Note from Andres to Ryan:\n",
    "Try and avoid for loops at all costs when using pandas."
   ]
  },
  {
   "cell_type": "code",
   "execution_count": 17,
   "metadata": {
    "code_folding": [],
    "scrolled": false
   },
   "outputs": [
    {
     "name": "stdout",
     "output_type": "stream",
     "text": [
      "('StuID', 0    415656\n",
      "Name: StuID, dtype: int64)\n",
      "('FirstName', 0    Brian\n",
      "Name: FirstName, dtype: object)\n",
      "('LastName', 0    Cha\n",
      "Name: LastName, dtype: object)\n",
      "('PeriodNumber', 0    2\n",
      "Name: PeriodNumber, dtype: int64)\n",
      "('Birthdate', 0   2020-06-17\n",
      "Name: Birthdate, dtype: datetime64[ns])\n",
      "('Birthyear', 0    2003\n",
      "Name: Birthyear, dtype: int64)\n",
      "('Radio', 0    ¯_(ツ)_/¯\n",
      "Name: Radio, dtype: object)\n",
      "('Question#1', 0    In N Out\n",
      "Name: Question#1, dtype: object)\n",
      "('Question#2', 0    not getting my work done\n",
      "Name: Question#2, dtype: object)\n",
      "('Question#3', 0    procrastinating\n",
      "Name: Question#3, dtype: object)\n",
      "('Timedelta', 0   0 days\n",
      "Name: Timedelta, dtype: timedelta64[ns])\n"
     ]
    }
   ],
   "source": [
    "blist = []\n",
    "for births in df.loc[filt].iteritems():\n",
    "    blist.append(births)\n",
    "    print(f\"{births}\")\n",
    "# print(blist)"
   ]
  },
  {
   "cell_type": "code",
   "execution_count": 18,
   "metadata": {},
   "outputs": [
    {
     "name": "stdout",
     "output_type": "stream",
     "text": [
      "11\n"
     ]
    }
   ],
   "source": [
    "print(len(blist))"
   ]
  },
  {
   "cell_type": "code",
   "execution_count": 19,
   "metadata": {},
   "outputs": [
    {
     "name": "stdout",
     "output_type": "stream",
     "text": [
      "2020-06-17 16:32:18.219385\n"
     ]
    }
   ],
   "source": [
    "print(datetime.datetime.today())"
   ]
  },
  {
   "cell_type": "code",
   "execution_count": 20,
   "metadata": {},
   "outputs": [],
   "source": [
    "df['Fullname'] = df['FirstName'] + \" \" + df['LastName']"
   ]
  },
  {
   "cell_type": "code",
   "execution_count": 21,
   "metadata": {},
   "outputs": [],
   "source": [
    "latest = df.loc[df['Birthdate'] == datetime.datetime.today().replace(minute = 0, second = 0, microsecond = 0, hour = 0)]"
   ]
  },
  {
   "cell_type": "code",
   "execution_count": 22,
   "metadata": {},
   "outputs": [
    {
     "data": {
      "text/html": [
       "<div>\n",
       "<style scoped>\n",
       "    .dataframe tbody tr th:only-of-type {\n",
       "        vertical-align: middle;\n",
       "    }\n",
       "\n",
       "    .dataframe tbody tr th {\n",
       "        vertical-align: top;\n",
       "    }\n",
       "\n",
       "    .dataframe thead th {\n",
       "        text-align: right;\n",
       "    }\n",
       "</style>\n",
       "<table border=\"1\" class=\"dataframe\">\n",
       "  <thead>\n",
       "    <tr style=\"text-align: right;\">\n",
       "      <th></th>\n",
       "      <th>StuID</th>\n",
       "      <th>FirstName</th>\n",
       "      <th>LastName</th>\n",
       "      <th>PeriodNumber</th>\n",
       "      <th>Birthdate</th>\n",
       "      <th>Birthyear</th>\n",
       "      <th>Radio</th>\n",
       "      <th>Question#1</th>\n",
       "      <th>Question#2</th>\n",
       "      <th>Question#3</th>\n",
       "      <th>Timedelta</th>\n",
       "      <th>Fullname</th>\n",
       "    </tr>\n",
       "  </thead>\n",
       "  <tbody>\n",
       "    <tr>\n",
       "      <th>0</th>\n",
       "      <td>415656</td>\n",
       "      <td>Brian</td>\n",
       "      <td>Cha</td>\n",
       "      <td>2</td>\n",
       "      <td>2020-06-17</td>\n",
       "      <td>2003</td>\n",
       "      <td>¯_(ツ)_/¯</td>\n",
       "      <td>In N Out</td>\n",
       "      <td>not getting my work done</td>\n",
       "      <td>procrastinating</td>\n",
       "      <td>0 days</td>\n",
       "      <td>Brian Cha</td>\n",
       "    </tr>\n",
       "  </tbody>\n",
       "</table>\n",
       "</div>"
      ],
      "text/plain": [
       "    StuID FirstName LastName  PeriodNumber  Birthdate  Birthyear     Radio  \\\n",
       "0  415656     Brian      Cha             2 2020-06-17       2003  ¯_(ツ)_/¯   \n",
       "\n",
       "  Question#1                Question#2       Question#3 Timedelta   Fullname  \n",
       "0   In N Out  not getting my work done  procrastinating    0 days  Brian Cha  "
      ]
     },
     "execution_count": 22,
     "metadata": {},
     "output_type": "execute_result"
    }
   ],
   "source": [
    "latest"
   ]
  },
  {
   "cell_type": "code",
   "execution_count": 23,
   "metadata": {},
   "outputs": [
    {
     "name": "stdout",
     "output_type": "stream",
     "text": [
      "2020-06-17\n"
     ]
    }
   ],
   "source": [
    "print(df.iloc[0, 4].date())"
   ]
  },
  {
   "cell_type": "code",
   "execution_count": 24,
   "metadata": {},
   "outputs": [
    {
     "data": {
      "text/plain": [
       "pandas.core.frame.DataFrame"
      ]
     },
     "execution_count": 24,
     "metadata": {},
     "output_type": "execute_result"
    }
   ],
   "source": [
    "type(df.loc[df['Birthdate'] == datetime.date.today()])"
   ]
  },
  {
   "cell_type": "code",
   "execution_count": 25,
   "metadata": {},
   "outputs": [
    {
     "name": "stdout",
     "output_type": "stream",
     "text": [
      "['Brian']\n"
     ]
    }
   ],
   "source": [
    "fname = latest['FirstName'].tolist()\n",
    "print(fname)"
   ]
  },
  {
   "cell_type": "code",
   "execution_count": 26,
   "metadata": {},
   "outputs": [
    {
     "name": "stdout",
     "output_type": "stream",
     "text": [
      "['Cha']\n"
     ]
    }
   ],
   "source": [
    "lname = latest['LastName'].tolist()\n",
    "print(lname)"
   ]
  },
  {
   "cell_type": "code",
   "execution_count": 27,
   "metadata": {},
   "outputs": [
    {
     "data": {
      "text/plain": [
       "pandas._libs.tslibs.timestamps.Timestamp"
      ]
     },
     "execution_count": 27,
     "metadata": {},
     "output_type": "execute_result"
    }
   ],
   "source": [
    "type(df.iloc[0, 4])"
   ]
  },
  {
   "cell_type": "code",
   "execution_count": 28,
   "metadata": {},
   "outputs": [],
   "source": [
    "names = []"
   ]
  },
  {
   "cell_type": "code",
   "execution_count": 29,
   "metadata": {},
   "outputs": [
    {
     "name": "stdout",
     "output_type": "stream",
     "text": [
      "('Brian', 'Cha')\n"
     ]
    }
   ],
   "source": [
    "for name in zip(latest['FirstName'].tolist(), latest['LastName'].tolist()):\n",
    "    names.append(name)\n",
    "    print(name)\n",
    "# print(names)"
   ]
  },
  {
   "cell_type": "code",
   "execution_count": 30,
   "metadata": {},
   "outputs": [
    {
     "name": "stdout",
     "output_type": "stream",
     "text": [
      "['Brian']\n"
     ]
    }
   ],
   "source": [
    "print(latest['FirstName'].tolist())"
   ]
  },
  {
   "cell_type": "code",
   "execution_count": 31,
   "metadata": {},
   "outputs": [
    {
     "data": {
      "text/html": [
       "<div>\n",
       "<style scoped>\n",
       "    .dataframe tbody tr th:only-of-type {\n",
       "        vertical-align: middle;\n",
       "    }\n",
       "\n",
       "    .dataframe tbody tr th {\n",
       "        vertical-align: top;\n",
       "    }\n",
       "\n",
       "    .dataframe thead th {\n",
       "        text-align: right;\n",
       "    }\n",
       "</style>\n",
       "<table border=\"1\" class=\"dataframe\">\n",
       "  <thead>\n",
       "    <tr style=\"text-align: right;\">\n",
       "      <th></th>\n",
       "      <th>StuID</th>\n",
       "      <th>FirstName</th>\n",
       "      <th>LastName</th>\n",
       "      <th>PeriodNumber</th>\n",
       "      <th>Birthdate</th>\n",
       "      <th>Birthyear</th>\n",
       "      <th>Radio</th>\n",
       "      <th>Question#1</th>\n",
       "      <th>Question#2</th>\n",
       "      <th>Question#3</th>\n",
       "      <th>Timedelta</th>\n",
       "      <th>Fullname</th>\n",
       "    </tr>\n",
       "  </thead>\n",
       "  <tbody>\n",
       "    <tr>\n",
       "      <th>0</th>\n",
       "      <td>415656</td>\n",
       "      <td>Brian</td>\n",
       "      <td>Cha</td>\n",
       "      <td>2</td>\n",
       "      <td>2020-06-17</td>\n",
       "      <td>2003</td>\n",
       "      <td>¯_(ツ)_/¯</td>\n",
       "      <td>In N Out</td>\n",
       "      <td>not getting my work done</td>\n",
       "      <td>procrastinating</td>\n",
       "      <td>0 days</td>\n",
       "      <td>Brian Cha</td>\n",
       "    </tr>\n",
       "    <tr>\n",
       "      <th>1</th>\n",
       "      <td>408179</td>\n",
       "      <td>Ryan</td>\n",
       "      <td>Lee</td>\n",
       "      <td>1</td>\n",
       "      <td>2020-06-19</td>\n",
       "      <td>2003</td>\n",
       "      <td>dylan</td>\n",
       "      <td>my name jeff</td>\n",
       "      <td>eat</td>\n",
       "      <td>flying</td>\n",
       "      <td>2 days</td>\n",
       "      <td>Ryan Lee</td>\n",
       "    </tr>\n",
       "    <tr>\n",
       "      <th>2</th>\n",
       "      <td>323250</td>\n",
       "      <td>Shyla</td>\n",
       "      <td>Summers</td>\n",
       "      <td>6</td>\n",
       "      <td>2020-06-19</td>\n",
       "      <td>2002</td>\n",
       "      <td>what is radio i'm a gen z kid ok boomer</td>\n",
       "      <td>Umai</td>\n",
       "      <td>y'all gonna make fun of me i don't need this</td>\n",
       "      <td>sleep</td>\n",
       "      <td>2 days</td>\n",
       "      <td>Shyla Summers</td>\n",
       "    </tr>\n",
       "    <tr>\n",
       "      <th>3</th>\n",
       "      <td>321411</td>\n",
       "      <td>Jae Hong</td>\n",
       "      <td>Jang</td>\n",
       "      <td>1</td>\n",
       "      <td>2020-06-22</td>\n",
       "      <td>2002</td>\n",
       "      <td>Hip hop</td>\n",
       "      <td>In-n-out</td>\n",
       "      <td>Drug Addicts</td>\n",
       "      <td>Sleeping</td>\n",
       "      <td>5 days</td>\n",
       "      <td>Jae Hong Jang</td>\n",
       "    </tr>\n",
       "    <tr>\n",
       "      <th>4</th>\n",
       "      <td>427698</td>\n",
       "      <td>Araya</td>\n",
       "      <td>Costa</td>\n",
       "      <td>6</td>\n",
       "      <td>2020-06-27</td>\n",
       "      <td>2003</td>\n",
       "      <td>kusc</td>\n",
       "      <td>Saap</td>\n",
       "      <td>dark spirits</td>\n",
       "      <td>learning</td>\n",
       "      <td>10 days</td>\n",
       "      <td>Araya Costa</td>\n",
       "    </tr>\n",
       "    <tr>\n",
       "      <th>...</th>\n",
       "      <td>...</td>\n",
       "      <td>...</td>\n",
       "      <td>...</td>\n",
       "      <td>...</td>\n",
       "      <td>...</td>\n",
       "      <td>...</td>\n",
       "      <td>...</td>\n",
       "      <td>...</td>\n",
       "      <td>...</td>\n",
       "      <td>...</td>\n",
       "      <td>...</td>\n",
       "      <td>...</td>\n",
       "    </tr>\n",
       "    <tr>\n",
       "      <th>138</th>\n",
       "      <td>407082</td>\n",
       "      <td>Leon</td>\n",
       "      <td>Melikian</td>\n",
       "      <td>3</td>\n",
       "      <td>2020-06-03</td>\n",
       "      <td>2005</td>\n",
       "      <td>KUSC</td>\n",
       "      <td>INnOut</td>\n",
       "      <td>fear itself</td>\n",
       "      <td>learning</td>\n",
       "      <td>351 days</td>\n",
       "      <td>Leon Melikian</td>\n",
       "    </tr>\n",
       "    <tr>\n",
       "      <th>139</th>\n",
       "      <td>425907</td>\n",
       "      <td>Adil</td>\n",
       "      <td>Shibu</td>\n",
       "      <td>6</td>\n",
       "      <td>2020-06-07</td>\n",
       "      <td>2004</td>\n",
       "      <td>Radio Mango</td>\n",
       "      <td>Chiles</td>\n",
       "      <td>more than 5 IQ</td>\n",
       "      <td>Gaming</td>\n",
       "      <td>355 days</td>\n",
       "      <td>Adil Shibu</td>\n",
       "    </tr>\n",
       "    <tr>\n",
       "      <th>140</th>\n",
       "      <td>441016</td>\n",
       "      <td>Qiwen</td>\n",
       "      <td>Hu</td>\n",
       "      <td>4</td>\n",
       "      <td>2020-06-13</td>\n",
       "      <td>2004</td>\n",
       "      <td>bla</td>\n",
       "      <td>blu</td>\n",
       "      <td>blo</td>\n",
       "      <td>Coding!?</td>\n",
       "      <td>361 days</td>\n",
       "      <td>Qiwen Hu</td>\n",
       "    </tr>\n",
       "    <tr>\n",
       "      <th>141</th>\n",
       "      <td>402753</td>\n",
       "      <td>Nathaniel</td>\n",
       "      <td>Kilgore</td>\n",
       "      <td>3</td>\n",
       "      <td>2020-06-15</td>\n",
       "      <td>2004</td>\n",
       "      <td>102.7</td>\n",
       "      <td>In and Out</td>\n",
       "      <td>Not knowing why I exist</td>\n",
       "      <td>PC Gaming</td>\n",
       "      <td>363 days</td>\n",
       "      <td>Nathaniel Kilgore</td>\n",
       "    </tr>\n",
       "    <tr>\n",
       "      <th>142</th>\n",
       "      <td>325951</td>\n",
       "      <td>Gabriel</td>\n",
       "      <td>Venezia</td>\n",
       "      <td>6</td>\n",
       "      <td>2020-06-16</td>\n",
       "      <td>2005</td>\n",
       "      <td>None</td>\n",
       "      <td>In-N-Out</td>\n",
       "      <td>Heights</td>\n",
       "      <td>Piano</td>\n",
       "      <td>364 days</td>\n",
       "      <td>Gabriel Venezia</td>\n",
       "    </tr>\n",
       "  </tbody>\n",
       "</table>\n",
       "<p>143 rows × 12 columns</p>\n",
       "</div>"
      ],
      "text/plain": [
       "      StuID  FirstName  LastName  PeriodNumber  Birthdate  Birthyear  \\\n",
       "0    415656      Brian       Cha             2 2020-06-17       2003   \n",
       "1    408179       Ryan       Lee             1 2020-06-19       2003   \n",
       "2    323250      Shyla   Summers             6 2020-06-19       2002   \n",
       "3    321411   Jae Hong      Jang             1 2020-06-22       2002   \n",
       "4    427698      Araya     Costa             6 2020-06-27       2003   \n",
       "..      ...        ...       ...           ...        ...        ...   \n",
       "138  407082       Leon  Melikian             3 2020-06-03       2005   \n",
       "139  425907       Adil     Shibu             6 2020-06-07       2004   \n",
       "140  441016      Qiwen        Hu             4 2020-06-13       2004   \n",
       "141  402753  Nathaniel   Kilgore             3 2020-06-15       2004   \n",
       "142  325951    Gabriel   Venezia             6 2020-06-16       2005   \n",
       "\n",
       "                                       Radio    Question#1  \\\n",
       "0                                   ¯_(ツ)_/¯      In N Out   \n",
       "1                                      dylan  my name jeff   \n",
       "2    what is radio i'm a gen z kid ok boomer          Umai   \n",
       "3                                    Hip hop      In-n-out   \n",
       "4                                       kusc          Saap   \n",
       "..                                       ...           ...   \n",
       "138                                     KUSC        INnOut   \n",
       "139                              Radio Mango        Chiles   \n",
       "140                                      bla           blu   \n",
       "141                                    102.7    In and Out   \n",
       "142                                     None      In-N-Out   \n",
       "\n",
       "                                       Question#2       Question#3 Timedelta  \\\n",
       "0                        not getting my work done  procrastinating    0 days   \n",
       "1                                             eat           flying    2 days   \n",
       "2    y'all gonna make fun of me i don't need this            sleep    2 days   \n",
       "3                                    Drug Addicts         Sleeping    5 days   \n",
       "4                                    dark spirits         learning   10 days   \n",
       "..                                            ...              ...       ...   \n",
       "138                                   fear itself         learning  351 days   \n",
       "139                                more than 5 IQ           Gaming  355 days   \n",
       "140                                           blo         Coding!?  361 days   \n",
       "141                       Not knowing why I exist        PC Gaming  363 days   \n",
       "142                                       Heights            Piano  364 days   \n",
       "\n",
       "              Fullname  \n",
       "0            Brian Cha  \n",
       "1             Ryan Lee  \n",
       "2        Shyla Summers  \n",
       "3        Jae Hong Jang  \n",
       "4          Araya Costa  \n",
       "..                 ...  \n",
       "138      Leon Melikian  \n",
       "139         Adil Shibu  \n",
       "140           Qiwen Hu  \n",
       "141  Nathaniel Kilgore  \n",
       "142    Gabriel Venezia  \n",
       "\n",
       "[143 rows x 12 columns]"
      ]
     },
     "execution_count": 31,
     "metadata": {},
     "output_type": "execute_result"
    }
   ],
   "source": [
    "df"
   ]
  },
  {
   "cell_type": "code",
   "execution_count": 32,
   "metadata": {},
   "outputs": [
    {
     "name": "stdout",
     "output_type": "stream",
     "text": [
      "['Brian Cha', 'Ryan Lee', 'Shyla Summers', 'Jae Hong Jang', 'Araya Costa', 'Toddeh Alexander', 'Nareh Mousalu', 'Elizabeth Yim', 'Jonathan Fangon', 'Henry Kaufman', 'Mason Daly', 'Vitale Diamandis', 'Cade Lipscomb', 'Eileen Lee', 'Jacob Thomas Lipp', 'Bennett Haah', 'Kelvin Villago', 'Erik Lindeman', 'Connor Harvey', 'Henri Gang', 'Hayden Elze', 'Kailo Owhadi', 'Emmett Milligan', 'Tejas Shah', 'Benedict Paul Benavides', 'Jake Kim', 'Tae Wook Kim', 'Shahryar Khezri', 'Barbara BreviglieriDeAlmeida', 'Narek Abelian', 'Michelle Kim', 'Dylan Lee', 'Charlotte Foster', 'Andrew Kim', 'Dylan De Choch', 'Julien Owhadi', 'Katelyn Wang', 'Michael Babayan', 'Chan Bin Lee', 'Gene Jeoung', 'Eric Limonadi', 'Mikael Parsamyan', 'Niall McGee', 'Ryan De Bernier', 'Eugene Kae', 'Desiree Gunnoe', 'Nathan Kim', 'Leon Keshishyan', 'Steven Carris', 'Robert Dergharapetian', 'Brandon Carris', 'Monika Dailydaite', 'Eugene Lee', 'Danny Zou', 'Jonathan Aydin', 'Freddie Ireland', 'Dylan Haworth', 'Drew Puttler', 'Katherine Lee', 'William Allen', 'Jackson Zimmer', 'Isaac Lee', 'Joshua Lee', 'Elliot Lin', 'Aidan Mendez', 'Paige Mercer', 'Sean Seraji', 'Sarah Nakama', 'Sarah Paik', 'Dylan Wilbur', 'Ethan Byeon', 'Aaron Kim', 'Matthew Flores', 'Owen Clark', 'Maika Francis', 'Nikitas Klapsis', 'Steven Yu', 'Domenic Velona', 'Dahae Choi', 'Samantha Moore', 'Yerazik Boghozian', 'Bet-sua Perez', 'Brendan Harvey', 'Ravi Riley', 'Alexander Nima', 'Dr. Neat', 'Melissa Muradoglu', 'Isaac Jung', 'Rose Edwards', 'Rohin Manvi', 'Lucas Simblet', 'Jordan Trinh', 'Andrew Boyle', 'Aditya Bose', 'Kyle Reid', 'Ryan Kim', 'Lukas Fullner', 'Ji Yu', 'Ryo Maeda', 'Ashlyn Burton', 'Chiwoon Lee', 'Junki Lee', 'Seohyeon Lee', 'Prashanth Bhaskara', 'Alexander Minasyan', 'Elizabeth Kerman', 'Alexander Altounian', 'Kevin Dong', 'Dylan Sahakians', 'Samuel Yang', 'Manazir Ahmed', 'Alison Maitlen', 'Mary Ajemyan', 'Matthew Paredes', 'Nasya Santos', 'Ryan Lee', 'Stewart Smith', 'Kevin Loritsch', 'Christopher Boyadjian', 'Elisha Nam', 'Arin Ajand', 'Simon Glaza', 'Daniel Steussy', 'Dante Busalacchi', 'Elmer Leon', 'Adarsh Chilkunda', 'Vikram Chilkunda', 'Jennifer Yoshioka', 'Sejin Dam', 'Euichan Lee', 'Rex Roclord', 'Rebecca Gerola', 'Erin Kim', 'Kyeongseo Jeong', 'Seon-Jae Yoon', 'Khalil Bush', 'Troy Cho', 'Andres Torres', 'Leon Melikian', 'Adil Shibu', 'Qiwen Hu', 'Nathaniel Kilgore', 'Gabriel Venezia']\n"
     ]
    }
   ],
   "source": [
    "lists = df['Fullname'].tolist()\n",
    "print(lists)"
   ]
  },
  {
   "cell_type": "code",
   "execution_count": 36,
   "metadata": {},
   "outputs": [
    {
     "name": "stdout",
     "output_type": "stream",
     "text": [
      "['Brian Cha']\n"
     ]
    }
   ],
   "source": [
    "kkk = latest['Fullname'].tolist()\n",
    "print(kkk)"
   ]
  },
  {
   "cell_type": "code",
   "execution_count": null,
   "metadata": {},
   "outputs": [],
   "source": []
  }
 ],
 "metadata": {
  "kernelspec": {
   "display_name": "Python 3",
   "language": "python",
   "name": "python3"
  },
  "language_info": {
   "codemirror_mode": {
    "name": "ipython",
    "version": 3
   },
   "file_extension": ".py",
   "mimetype": "text/x-python",
   "name": "python",
   "nbconvert_exporter": "python",
   "pygments_lexer": "ipython3",
   "version": "3.7.6"
  },
  "nbTranslate": {
   "displayLangs": [
    "*"
   ],
   "hotkey": "alt-t",
   "langInMainMenu": true,
   "sourceLang": "en",
   "targetLang": "fr",
   "useGoogleTranslate": true
  },
  "varInspector": {
   "cols": {
    "lenName": 16,
    "lenType": 16,
    "lenVar": 40
   },
   "kernels_config": {
    "python": {
     "delete_cmd_postfix": "",
     "delete_cmd_prefix": "del ",
     "library": "var_list.py",
     "varRefreshCmd": "print(var_dic_list())"
    },
    "r": {
     "delete_cmd_postfix": ") ",
     "delete_cmd_prefix": "rm(",
     "library": "var_list.r",
     "varRefreshCmd": "cat(var_dic_list()) "
    }
   },
   "types_to_exclude": [
    "module",
    "function",
    "builtin_function_or_method",
    "instance",
    "_Feature"
   ],
   "window_display": false
  }
 },
 "nbformat": 4,
 "nbformat_minor": 4
}
