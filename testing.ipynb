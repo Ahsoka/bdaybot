{
 "cells": [
  {
   "cell_type": "code",
   "execution_count": 1,
   "metadata": {},
   "outputs": [],
   "source": [
    "import pandas as pd"
   ]
  },
  {
   "cell_type": "code",
   "execution_count": 2,
   "metadata": {},
   "outputs": [],
   "source": [
    "import datetime"
   ]
  },
  {
   "cell_type": "code",
   "execution_count": 3,
   "metadata": {},
   "outputs": [],
   "source": [
    "df = pd.read_csv('beta_bdays.csv')"
   ]
  },
  {
   "cell_type": "code",
   "execution_count": 4,
   "metadata": {
    "scrolled": true
   },
   "outputs": [
    {
     "data": {
      "text/html": [
       "<div>\n",
       "<style scoped>\n",
       "    .dataframe tbody tr th:only-of-type {\n",
       "        vertical-align: middle;\n",
       "    }\n",
       "\n",
       "    .dataframe tbody tr th {\n",
       "        vertical-align: top;\n",
       "    }\n",
       "\n",
       "    .dataframe thead th {\n",
       "        text-align: right;\n",
       "    }\n",
       "</style>\n",
       "<table border=\"1\" class=\"dataframe\">\n",
       "  <thead>\n",
       "    <tr style=\"text-align: right;\">\n",
       "      <th></th>\n",
       "      <th>StuID</th>\n",
       "      <th>FirstName</th>\n",
       "      <th>LastName</th>\n",
       "      <th>PeriodNumber</th>\n",
       "      <th>Birthdate</th>\n",
       "      <th>Birthyear</th>\n",
       "      <th>Radio</th>\n",
       "      <th>Question#1</th>\n",
       "      <th>Question#2</th>\n",
       "      <th>Question#3</th>\n",
       "      <th>Timedelta</th>\n",
       "    </tr>\n",
       "  </thead>\n",
       "  <tbody>\n",
       "    <tr>\n",
       "      <th>0</th>\n",
       "      <td>402753</td>\n",
       "      <td>Nathaniel</td>\n",
       "      <td>Kilgore</td>\n",
       "      <td>3</td>\n",
       "      <td>2020-06-15</td>\n",
       "      <td>2004</td>\n",
       "      <td>102.7</td>\n",
       "      <td>In and Out</td>\n",
       "      <td>Not knowing why I exist</td>\n",
       "      <td>PC Gaming</td>\n",
       "      <td>0 days 00:00:00.000000000</td>\n",
       "    </tr>\n",
       "    <tr>\n",
       "      <th>1</th>\n",
       "      <td>325951</td>\n",
       "      <td>Gabriel</td>\n",
       "      <td>Venezia</td>\n",
       "      <td>6</td>\n",
       "      <td>2020-06-16</td>\n",
       "      <td>2005</td>\n",
       "      <td>None</td>\n",
       "      <td>In-N-Out</td>\n",
       "      <td>Heights</td>\n",
       "      <td>Piano</td>\n",
       "      <td>1 days 00:00:00.000000000</td>\n",
       "    </tr>\n",
       "    <tr>\n",
       "      <th>2</th>\n",
       "      <td>415656</td>\n",
       "      <td>Brian</td>\n",
       "      <td>Cha</td>\n",
       "      <td>2</td>\n",
       "      <td>2020-06-17</td>\n",
       "      <td>2003</td>\n",
       "      <td>¯_(ツ)_/¯</td>\n",
       "      <td>In N Out</td>\n",
       "      <td>not getting my work done</td>\n",
       "      <td>procrastinating</td>\n",
       "      <td>2 days 00:00:00.000000000</td>\n",
       "    </tr>\n",
       "    <tr>\n",
       "      <th>3</th>\n",
       "      <td>408179</td>\n",
       "      <td>Ryan</td>\n",
       "      <td>Lee</td>\n",
       "      <td>1</td>\n",
       "      <td>2020-06-19</td>\n",
       "      <td>2003</td>\n",
       "      <td>dylan</td>\n",
       "      <td>my name jeff</td>\n",
       "      <td>eat</td>\n",
       "      <td>flying</td>\n",
       "      <td>4 days 00:00:00.000000000</td>\n",
       "    </tr>\n",
       "    <tr>\n",
       "      <th>4</th>\n",
       "      <td>323250</td>\n",
       "      <td>Shyla</td>\n",
       "      <td>Summers</td>\n",
       "      <td>6</td>\n",
       "      <td>2020-06-19</td>\n",
       "      <td>2002</td>\n",
       "      <td>what is radio i'm a gen z kid ok boomer</td>\n",
       "      <td>Umai</td>\n",
       "      <td>y'all gonna make fun of me i don't need this</td>\n",
       "      <td>sleep</td>\n",
       "      <td>4 days 00:00:00.000000000</td>\n",
       "    </tr>\n",
       "    <tr>\n",
       "      <th>...</th>\n",
       "      <td>...</td>\n",
       "      <td>...</td>\n",
       "      <td>...</td>\n",
       "      <td>...</td>\n",
       "      <td>...</td>\n",
       "      <td>...</td>\n",
       "      <td>...</td>\n",
       "      <td>...</td>\n",
       "      <td>...</td>\n",
       "      <td>...</td>\n",
       "      <td>...</td>\n",
       "    </tr>\n",
       "    <tr>\n",
       "      <th>138</th>\n",
       "      <td>430482</td>\n",
       "      <td>Troy</td>\n",
       "      <td>Cho</td>\n",
       "      <td>6</td>\n",
       "      <td>2020-06-01</td>\n",
       "      <td>2005</td>\n",
       "      <td>don't use radio</td>\n",
       "      <td>some korean place</td>\n",
       "      <td>spiders</td>\n",
       "      <td>gaming</td>\n",
       "      <td>351 days 00:00:00.000000000</td>\n",
       "    </tr>\n",
       "    <tr>\n",
       "      <th>139</th>\n",
       "      <td>403325</td>\n",
       "      <td>Andres</td>\n",
       "      <td>Torres</td>\n",
       "      <td>4</td>\n",
       "      <td>2020-06-01</td>\n",
       "      <td>2003</td>\n",
       "      <td>The Breakfast Club</td>\n",
       "      <td>I dunno</td>\n",
       "      <td>I dunno</td>\n",
       "      <td>Haha u'll never know</td>\n",
       "      <td>351 days 00:00:00.000000000</td>\n",
       "    </tr>\n",
       "    <tr>\n",
       "      <th>140</th>\n",
       "      <td>407082</td>\n",
       "      <td>Leon</td>\n",
       "      <td>Melikian</td>\n",
       "      <td>3</td>\n",
       "      <td>2020-06-03</td>\n",
       "      <td>2005</td>\n",
       "      <td>KUSC</td>\n",
       "      <td>INnOut</td>\n",
       "      <td>fear itself</td>\n",
       "      <td>learning</td>\n",
       "      <td>353 days 00:00:00.000000000</td>\n",
       "    </tr>\n",
       "    <tr>\n",
       "      <th>141</th>\n",
       "      <td>425907</td>\n",
       "      <td>Adil</td>\n",
       "      <td>Shibu</td>\n",
       "      <td>6</td>\n",
       "      <td>2020-06-07</td>\n",
       "      <td>2004</td>\n",
       "      <td>Radio Mango</td>\n",
       "      <td>Chiles</td>\n",
       "      <td>more than 5 IQ</td>\n",
       "      <td>Gaming</td>\n",
       "      <td>357 days 00:00:00.000000000</td>\n",
       "    </tr>\n",
       "    <tr>\n",
       "      <th>142</th>\n",
       "      <td>441016</td>\n",
       "      <td>Qiwen</td>\n",
       "      <td>Hu</td>\n",
       "      <td>4</td>\n",
       "      <td>2020-06-13</td>\n",
       "      <td>2004</td>\n",
       "      <td>bla</td>\n",
       "      <td>blu</td>\n",
       "      <td>blo</td>\n",
       "      <td>Coding!?</td>\n",
       "      <td>363 days 00:00:00.000000000</td>\n",
       "    </tr>\n",
       "  </tbody>\n",
       "</table>\n",
       "<p>143 rows × 11 columns</p>\n",
       "</div>"
      ],
      "text/plain": [
       "      StuID  FirstName  LastName  PeriodNumber   Birthdate  Birthyear  \\\n",
       "0    402753  Nathaniel   Kilgore             3  2020-06-15       2004   \n",
       "1    325951    Gabriel   Venezia             6  2020-06-16       2005   \n",
       "2    415656      Brian       Cha             2  2020-06-17       2003   \n",
       "3    408179       Ryan       Lee             1  2020-06-19       2003   \n",
       "4    323250      Shyla   Summers             6  2020-06-19       2002   \n",
       "..      ...        ...       ...           ...         ...        ...   \n",
       "138  430482       Troy       Cho             6  2020-06-01       2005   \n",
       "139  403325     Andres    Torres             4  2020-06-01       2003   \n",
       "140  407082       Leon  Melikian             3  2020-06-03       2005   \n",
       "141  425907       Adil     Shibu             6  2020-06-07       2004   \n",
       "142  441016      Qiwen        Hu             4  2020-06-13       2004   \n",
       "\n",
       "                                       Radio         Question#1  \\\n",
       "0                                      102.7         In and Out   \n",
       "1                                       None           In-N-Out   \n",
       "2                                   ¯_(ツ)_/¯           In N Out   \n",
       "3                                      dylan       my name jeff   \n",
       "4    what is radio i'm a gen z kid ok boomer               Umai   \n",
       "..                                       ...                ...   \n",
       "138                          don't use radio  some korean place   \n",
       "139                       The Breakfast Club            I dunno   \n",
       "140                                     KUSC             INnOut   \n",
       "141                              Radio Mango             Chiles   \n",
       "142                                      bla                blu   \n",
       "\n",
       "                                       Question#2            Question#3  \\\n",
       "0                         Not knowing why I exist             PC Gaming   \n",
       "1                                         Heights                 Piano   \n",
       "2                        not getting my work done       procrastinating   \n",
       "3                                             eat                flying   \n",
       "4    y'all gonna make fun of me i don't need this                 sleep   \n",
       "..                                            ...                   ...   \n",
       "138                                       spiders                gaming   \n",
       "139                                       I dunno  Haha u'll never know   \n",
       "140                                   fear itself              learning   \n",
       "141                                more than 5 IQ                Gaming   \n",
       "142                                           blo              Coding!?   \n",
       "\n",
       "                       Timedelta  \n",
       "0      0 days 00:00:00.000000000  \n",
       "1      1 days 00:00:00.000000000  \n",
       "2      2 days 00:00:00.000000000  \n",
       "3      4 days 00:00:00.000000000  \n",
       "4      4 days 00:00:00.000000000  \n",
       "..                           ...  \n",
       "138  351 days 00:00:00.000000000  \n",
       "139  351 days 00:00:00.000000000  \n",
       "140  353 days 00:00:00.000000000  \n",
       "141  357 days 00:00:00.000000000  \n",
       "142  363 days 00:00:00.000000000  \n",
       "\n",
       "[143 rows x 11 columns]"
      ]
     },
     "execution_count": 4,
     "metadata": {},
     "output_type": "execute_result"
    }
   ],
   "source": [
    "df"
   ]
  },
  {
   "cell_type": "code",
   "execution_count": 5,
   "metadata": {},
   "outputs": [
    {
     "data": {
      "text/plain": [
       "(143, 11)"
      ]
     },
     "execution_count": 5,
     "metadata": {},
     "output_type": "execute_result"
    }
   ],
   "source": [
    "df.shape"
   ]
  },
  {
   "cell_type": "code",
   "execution_count": 6,
   "metadata": {},
   "outputs": [
    {
     "name": "stdout",
     "output_type": "stream",
     "text": [
      "2020-06-16\n"
     ]
    }
   ],
   "source": [
    "print(datetime.date.today())"
   ]
  },
  {
   "cell_type": "code",
   "execution_count": 7,
   "metadata": {},
   "outputs": [
    {
     "data": {
      "text/plain": [
       "'2020-06-15'"
      ]
     },
     "execution_count": 7,
     "metadata": {},
     "output_type": "execute_result"
    }
   ],
   "source": [
    "df.iloc[0, 4]"
   ]
  },
  {
   "cell_type": "code",
   "execution_count": 8,
   "metadata": {},
   "outputs": [
    {
     "data": {
      "text/plain": [
       "2020-02-24    3\n",
       "2020-12-10    3\n",
       "2020-12-11    3\n",
       "2020-12-08    3\n",
       "2020-06-28    3\n",
       "             ..\n",
       "2020-11-29    1\n",
       "2020-12-22    1\n",
       "2020-07-29    1\n",
       "2020-10-02    1\n",
       "2020-05-16    1\n",
       "Name: Birthdate, Length: 118, dtype: int64"
      ]
     },
     "execution_count": 8,
     "metadata": {},
     "output_type": "execute_result"
    }
   ],
   "source": [
    "df['Birthdate'].value_counts()"
   ]
  },
  {
   "cell_type": "code",
   "execution_count": 25,
   "metadata": {},
   "outputs": [],
   "source": [
    "today = [datetime.date.today().strftime(\"%Y-%m-%d\")]"
   ]
  },
  {
   "cell_type": "code",
   "execution_count": 26,
   "metadata": {
    "scrolled": true
   },
   "outputs": [
    {
     "name": "stdout",
     "output_type": "stream",
     "text": [
      "2020-06-16\n"
     ]
    }
   ],
   "source": [
    "print(datetime.date.today().strftime(\"%Y-%m-%d\"))"
   ]
  },
  {
   "cell_type": "code",
   "execution_count": 27,
   "metadata": {},
   "outputs": [],
   "source": [
    "filt = df['Birthdate'].isin(today)"
   ]
  },
  {
   "cell_type": "code",
   "execution_count": 28,
   "metadata": {},
   "outputs": [
    {
     "data": {
      "text/plain": [
       "1    2020-06-16\n",
       "Name: Birthdate, dtype: object"
      ]
     },
     "execution_count": 28,
     "metadata": {},
     "output_type": "execute_result"
    }
   ],
   "source": [
    "# this is a series\n",
    "df.loc[filt, 'Birthdate']"
   ]
  },
  {
   "cell_type": "code",
   "execution_count": 29,
   "metadata": {
    "scrolled": true
   },
   "outputs": [
    {
     "name": "stdout",
     "output_type": "stream",
     "text": [
      "0      False\n",
      "1       True\n",
      "2      False\n",
      "3      False\n",
      "4      False\n",
      "       ...  \n",
      "138    False\n",
      "139    False\n",
      "140    False\n",
      "141    False\n",
      "142    False\n",
      "Name: Birthdate, Length: 143, dtype: bool\n"
     ]
    }
   ],
   "source": [
    "print(df['Birthdate'].isin(today))"
   ]
  },
  {
   "cell_type": "code",
   "execution_count": 30,
   "metadata": {},
   "outputs": [
    {
     "name": "stdout",
     "output_type": "stream",
     "text": [
      "(1, '2020-06-16')\n"
     ]
    }
   ],
   "source": [
    "for births in df.loc[filt, 'Birthdate'].iteritems():\n",
    "    print(births)"
   ]
  },
  {
   "cell_type": "code",
   "execution_count": null,
   "metadata": {},
   "outputs": [],
   "source": []
  }
 ],
 "metadata": {
  "kernelspec": {
   "display_name": "Python 3",
   "language": "python",
   "name": "python3"
  },
  "language_info": {
   "codemirror_mode": {
    "name": "ipython",
    "version": 3
   },
   "file_extension": ".py",
   "mimetype": "text/x-python",
   "name": "python",
   "nbconvert_exporter": "python",
   "pygments_lexer": "ipython3",
   "version": "3.7.6"
  }
 },
 "nbformat": 4,
 "nbformat_minor": 4
}
