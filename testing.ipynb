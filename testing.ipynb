{
 "cells": [
  {
   "cell_type": "code",
   "execution_count": 1,
   "metadata": {},
   "outputs": [],
   "source": [
    "import pandas as pd"
   ]
  },
  {
   "cell_type": "code",
   "execution_count": 2,
   "metadata": {},
   "outputs": [],
   "source": [
    "import datetime"
   ]
  },
  {
   "cell_type": "code",
   "execution_count": 3,
   "metadata": {},
   "outputs": [],
   "source": [
    "df = pd.read_csv('beta_bdays.csv')"
   ]
  },
  {
   "cell_type": "code",
   "execution_count": 4,
   "metadata": {
    "scrolled": true
   },
   "outputs": [
    {
     "data": {
      "text/html": [
       "<div>\n",
       "<style scoped>\n",
       "    .dataframe tbody tr th:only-of-type {\n",
       "        vertical-align: middle;\n",
       "    }\n",
       "\n",
       "    .dataframe tbody tr th {\n",
       "        vertical-align: top;\n",
       "    }\n",
       "\n",
       "    .dataframe thead th {\n",
       "        text-align: right;\n",
       "    }\n",
       "</style>\n",
       "<table border=\"1\" class=\"dataframe\">\n",
       "  <thead>\n",
       "    <tr style=\"text-align: right;\">\n",
       "      <th></th>\n",
       "      <th>StuID</th>\n",
       "      <th>FirstName</th>\n",
       "      <th>LastName</th>\n",
       "      <th>PeriodNumber</th>\n",
       "      <th>Birthdate</th>\n",
       "      <th>Birthyear</th>\n",
       "      <th>Radio</th>\n",
       "      <th>Question#1</th>\n",
       "      <th>Question#2</th>\n",
       "      <th>Question#3</th>\n",
       "      <th>Timedelta</th>\n",
       "    </tr>\n",
       "  </thead>\n",
       "  <tbody>\n",
       "    <tr>\n",
       "      <th>0</th>\n",
       "      <td>325951</td>\n",
       "      <td>Gabriel</td>\n",
       "      <td>Venezia</td>\n",
       "      <td>6</td>\n",
       "      <td>2020-06-16</td>\n",
       "      <td>2005</td>\n",
       "      <td>None</td>\n",
       "      <td>In-N-Out</td>\n",
       "      <td>Heights</td>\n",
       "      <td>Piano</td>\n",
       "      <td>0 days 00:00:00.000000000</td>\n",
       "    </tr>\n",
       "    <tr>\n",
       "      <th>1</th>\n",
       "      <td>415656</td>\n",
       "      <td>Brian</td>\n",
       "      <td>Cha</td>\n",
       "      <td>2</td>\n",
       "      <td>2020-06-17</td>\n",
       "      <td>2003</td>\n",
       "      <td>¯_(ツ)_/¯</td>\n",
       "      <td>In N Out</td>\n",
       "      <td>not getting my work done</td>\n",
       "      <td>procrastinating</td>\n",
       "      <td>1 days 00:00:00.000000000</td>\n",
       "    </tr>\n",
       "    <tr>\n",
       "      <th>2</th>\n",
       "      <td>408179</td>\n",
       "      <td>Ryan</td>\n",
       "      <td>Lee</td>\n",
       "      <td>1</td>\n",
       "      <td>2020-06-19</td>\n",
       "      <td>2003</td>\n",
       "      <td>dylan</td>\n",
       "      <td>my name jeff</td>\n",
       "      <td>eat</td>\n",
       "      <td>flying</td>\n",
       "      <td>3 days 00:00:00.000000000</td>\n",
       "    </tr>\n",
       "    <tr>\n",
       "      <th>3</th>\n",
       "      <td>323250</td>\n",
       "      <td>Shyla</td>\n",
       "      <td>Summers</td>\n",
       "      <td>6</td>\n",
       "      <td>2020-06-19</td>\n",
       "      <td>2002</td>\n",
       "      <td>what is radio i'm a gen z kid ok boomer</td>\n",
       "      <td>Umai</td>\n",
       "      <td>y'all gonna make fun of me i don't need this</td>\n",
       "      <td>sleep</td>\n",
       "      <td>3 days 00:00:00.000000000</td>\n",
       "    </tr>\n",
       "    <tr>\n",
       "      <th>4</th>\n",
       "      <td>321411</td>\n",
       "      <td>Jae Hong</td>\n",
       "      <td>Jang</td>\n",
       "      <td>1</td>\n",
       "      <td>2020-06-22</td>\n",
       "      <td>2002</td>\n",
       "      <td>Hip hop</td>\n",
       "      <td>In-n-out</td>\n",
       "      <td>Drug Addicts</td>\n",
       "      <td>Sleeping</td>\n",
       "      <td>6 days 00:00:00.000000000</td>\n",
       "    </tr>\n",
       "    <tr>\n",
       "      <th>...</th>\n",
       "      <td>...</td>\n",
       "      <td>...</td>\n",
       "      <td>...</td>\n",
       "      <td>...</td>\n",
       "      <td>...</td>\n",
       "      <td>...</td>\n",
       "      <td>...</td>\n",
       "      <td>...</td>\n",
       "      <td>...</td>\n",
       "      <td>...</td>\n",
       "      <td>...</td>\n",
       "    </tr>\n",
       "    <tr>\n",
       "      <th>138</th>\n",
       "      <td>403325</td>\n",
       "      <td>Andres</td>\n",
       "      <td>Torres</td>\n",
       "      <td>4</td>\n",
       "      <td>2020-06-01</td>\n",
       "      <td>2003</td>\n",
       "      <td>The Breakfast Club</td>\n",
       "      <td>I dunno</td>\n",
       "      <td>I dunno</td>\n",
       "      <td>Haha u'll never know</td>\n",
       "      <td>350 days 00:00:00.000000000</td>\n",
       "    </tr>\n",
       "    <tr>\n",
       "      <th>139</th>\n",
       "      <td>407082</td>\n",
       "      <td>Leon</td>\n",
       "      <td>Melikian</td>\n",
       "      <td>3</td>\n",
       "      <td>2020-06-03</td>\n",
       "      <td>2005</td>\n",
       "      <td>KUSC</td>\n",
       "      <td>INnOut</td>\n",
       "      <td>fear itself</td>\n",
       "      <td>learning</td>\n",
       "      <td>352 days 00:00:00.000000000</td>\n",
       "    </tr>\n",
       "    <tr>\n",
       "      <th>140</th>\n",
       "      <td>425907</td>\n",
       "      <td>Adil</td>\n",
       "      <td>Shibu</td>\n",
       "      <td>6</td>\n",
       "      <td>2020-06-07</td>\n",
       "      <td>2004</td>\n",
       "      <td>Radio Mango</td>\n",
       "      <td>Chiles</td>\n",
       "      <td>more than 5 IQ</td>\n",
       "      <td>Gaming</td>\n",
       "      <td>356 days 00:00:00.000000000</td>\n",
       "    </tr>\n",
       "    <tr>\n",
       "      <th>141</th>\n",
       "      <td>441016</td>\n",
       "      <td>Qiwen</td>\n",
       "      <td>Hu</td>\n",
       "      <td>4</td>\n",
       "      <td>2020-06-13</td>\n",
       "      <td>2004</td>\n",
       "      <td>bla</td>\n",
       "      <td>blu</td>\n",
       "      <td>blo</td>\n",
       "      <td>Coding!?</td>\n",
       "      <td>362 days 00:00:00.000000000</td>\n",
       "    </tr>\n",
       "    <tr>\n",
       "      <th>142</th>\n",
       "      <td>402753</td>\n",
       "      <td>Nathaniel</td>\n",
       "      <td>Kilgore</td>\n",
       "      <td>3</td>\n",
       "      <td>2020-06-15</td>\n",
       "      <td>2004</td>\n",
       "      <td>102.7</td>\n",
       "      <td>In and Out</td>\n",
       "      <td>Not knowing why I exist</td>\n",
       "      <td>PC Gaming</td>\n",
       "      <td>364 days 00:00:00.000000000</td>\n",
       "    </tr>\n",
       "  </tbody>\n",
       "</table>\n",
       "<p>143 rows × 11 columns</p>\n",
       "</div>"
      ],
      "text/plain": [
       "      StuID  FirstName  LastName  PeriodNumber   Birthdate  Birthyear  \\\n",
       "0    325951    Gabriel   Venezia             6  2020-06-16       2005   \n",
       "1    415656      Brian       Cha             2  2020-06-17       2003   \n",
       "2    408179       Ryan       Lee             1  2020-06-19       2003   \n",
       "3    323250      Shyla   Summers             6  2020-06-19       2002   \n",
       "4    321411   Jae Hong      Jang             1  2020-06-22       2002   \n",
       "..      ...        ...       ...           ...         ...        ...   \n",
       "138  403325     Andres    Torres             4  2020-06-01       2003   \n",
       "139  407082       Leon  Melikian             3  2020-06-03       2005   \n",
       "140  425907       Adil     Shibu             6  2020-06-07       2004   \n",
       "141  441016      Qiwen        Hu             4  2020-06-13       2004   \n",
       "142  402753  Nathaniel   Kilgore             3  2020-06-15       2004   \n",
       "\n",
       "                                       Radio    Question#1  \\\n",
       "0                                       None      In-N-Out   \n",
       "1                                   ¯_(ツ)_/¯      In N Out   \n",
       "2                                      dylan  my name jeff   \n",
       "3    what is radio i'm a gen z kid ok boomer          Umai   \n",
       "4                                    Hip hop      In-n-out   \n",
       "..                                       ...           ...   \n",
       "138                       The Breakfast Club       I dunno   \n",
       "139                                     KUSC        INnOut   \n",
       "140                              Radio Mango        Chiles   \n",
       "141                                      bla           blu   \n",
       "142                                    102.7    In and Out   \n",
       "\n",
       "                                       Question#2            Question#3  \\\n",
       "0                                         Heights                 Piano   \n",
       "1                        not getting my work done       procrastinating   \n",
       "2                                             eat                flying   \n",
       "3    y'all gonna make fun of me i don't need this                 sleep   \n",
       "4                                    Drug Addicts              Sleeping   \n",
       "..                                            ...                   ...   \n",
       "138                                       I dunno  Haha u'll never know   \n",
       "139                                   fear itself              learning   \n",
       "140                                more than 5 IQ                Gaming   \n",
       "141                                           blo              Coding!?   \n",
       "142                       Not knowing why I exist             PC Gaming   \n",
       "\n",
       "                       Timedelta  \n",
       "0      0 days 00:00:00.000000000  \n",
       "1      1 days 00:00:00.000000000  \n",
       "2      3 days 00:00:00.000000000  \n",
       "3      3 days 00:00:00.000000000  \n",
       "4      6 days 00:00:00.000000000  \n",
       "..                           ...  \n",
       "138  350 days 00:00:00.000000000  \n",
       "139  352 days 00:00:00.000000000  \n",
       "140  356 days 00:00:00.000000000  \n",
       "141  362 days 00:00:00.000000000  \n",
       "142  364 days 00:00:00.000000000  \n",
       "\n",
       "[143 rows x 11 columns]"
      ]
     },
     "execution_count": 4,
     "metadata": {},
     "output_type": "execute_result"
    }
   ],
   "source": [
    "df"
   ]
  },
  {
   "cell_type": "code",
   "execution_count": 5,
   "metadata": {},
   "outputs": [
    {
     "data": {
      "text/plain": [
       "(143, 11)"
      ]
     },
     "execution_count": 5,
     "metadata": {},
     "output_type": "execute_result"
    }
   ],
   "source": [
    "df.shape"
   ]
  },
  {
   "cell_type": "code",
   "execution_count": 6,
   "metadata": {},
   "outputs": [
    {
     "name": "stdout",
     "output_type": "stream",
     "text": [
      "2020-06-16\n"
     ]
    }
   ],
   "source": [
    "print(datetime.date.today())"
   ]
  },
  {
   "cell_type": "code",
   "execution_count": 7,
   "metadata": {},
   "outputs": [
    {
     "data": {
      "text/plain": [
       "'2020-06-16'"
      ]
     },
     "execution_count": 7,
     "metadata": {},
     "output_type": "execute_result"
    }
   ],
   "source": [
    "df.iloc[0, 4]"
   ]
  },
  {
   "cell_type": "code",
   "execution_count": 8,
   "metadata": {},
   "outputs": [
    {
     "data": {
      "text/plain": [
       "2020-05-08    3\n",
       "2020-12-08    3\n",
       "2020-12-11    3\n",
       "2020-02-24    3\n",
       "2020-12-10    3\n",
       "             ..\n",
       "2020-09-02    1\n",
       "2020-02-26    1\n",
       "2020-03-26    1\n",
       "2020-02-01    1\n",
       "2020-08-05    1\n",
       "Name: Birthdate, Length: 118, dtype: int64"
      ]
     },
     "execution_count": 8,
     "metadata": {},
     "output_type": "execute_result"
    }
   ],
   "source": [
    "df['Birthdate'].value_counts()"
   ]
  },
  {
   "cell_type": "code",
   "execution_count": 9,
   "metadata": {},
   "outputs": [],
   "source": [
    "today = [datetime.date.today().strftime(\"%Y-%m-%d\")]"
   ]
  },
  {
   "cell_type": "code",
   "execution_count": 10,
   "metadata": {
    "scrolled": true
   },
   "outputs": [
    {
     "name": "stdout",
     "output_type": "stream",
     "text": [
      "2020-06-16\n"
     ]
    }
   ],
   "source": [
    "print(datetime.date.today().strftime(\"%Y-%m-%d\"))"
   ]
  },
  {
   "cell_type": "code",
   "execution_count": 11,
   "metadata": {},
   "outputs": [],
   "source": [
    "filt = df['Birthdate'].isin(today)"
   ]
  },
  {
   "cell_type": "code",
   "execution_count": 12,
   "metadata": {},
   "outputs": [
    {
     "data": {
      "text/plain": [
       "0    2020-06-16\n",
       "Name: Birthdate, dtype: object"
      ]
     },
     "execution_count": 12,
     "metadata": {},
     "output_type": "execute_result"
    }
   ],
   "source": [
    "# this is a series\n",
    "df.loc[filt, 'Birthdate']"
   ]
  },
  {
   "cell_type": "code",
   "execution_count": 18,
   "metadata": {
    "scrolled": true
   },
   "outputs": [
    {
     "data": {
      "text/plain": [
       "pandas.core.series.Series"
      ]
     },
     "execution_count": 18,
     "metadata": {},
     "output_type": "execute_result"
    }
   ],
   "source": [
    "type(df['Birthdate'].isin(today))"
   ]
  },
  {
   "cell_type": "code",
   "execution_count": 28,
   "metadata": {},
   "outputs": [
    {
     "name": "stdout",
     "output_type": "stream",
     "text": [
      "1('StuID', 0    325951\n",
      "Name: StuID, dtype: int64)\n",
      "1('FirstName', 0    Gabriel\n",
      "Name: FirstName, dtype: object)\n",
      "1('LastName', 0    Venezia\n",
      "Name: LastName, dtype: object)\n",
      "1('PeriodNumber', 0    6\n",
      "Name: PeriodNumber, dtype: int64)\n",
      "1('Birthdate', 0    2020-06-16\n",
      "Name: Birthdate, dtype: object)\n",
      "1('Birthyear', 0    2005\n",
      "Name: Birthyear, dtype: int64)\n",
      "1('Radio', 0    None\n",
      "Name: Radio, dtype: object)\n",
      "1('Question#1', 0    In-N-Out\n",
      "Name: Question#1, dtype: object)\n",
      "1('Question#2', 0    Heights\n",
      "Name: Question#2, dtype: object)\n",
      "1('Question#3', 0    Piano\n",
      "Name: Question#3, dtype: object)\n",
      "1('Timedelta', 0    0 days 00:00:00.000000000\n",
      "Name: Timedelta, dtype: object)\n"
     ]
    }
   ],
   "source": [
    "blist = []\n",
    "for births in df.loc[filt].iteritems():\n",
    "    blist.append(births)\n",
    "    print(f\"1{births}\")\n",
    "# print(blist)"
   ]
  },
  {
   "cell_type": "code",
   "execution_count": 21,
   "metadata": {},
   "outputs": [
    {
     "name": "stdout",
     "output_type": "stream",
     "text": [
      "1\n"
     ]
    }
   ],
   "source": [
    "print(len(blist))"
   ]
  },
  {
   "cell_type": "code",
   "execution_count": 36,
   "metadata": {},
   "outputs": [],
   "source": [
    "latest = df.loc[df['Birthdate'] == datetime.date.today().strftime(\"%Y-%m-%d\")]"
   ]
  },
  {
   "cell_type": "code",
   "execution_count": 38,
   "metadata": {},
   "outputs": [
    {
     "name": "stdout",
     "output_type": "stream",
     "text": [
      "['Gabriel']\n"
     ]
    }
   ],
   "source": [
    "fname = latest['FirstName'].tolist()\n",
    "# print(fname)"
   ]
  },
  {
   "cell_type": "code",
   "execution_count": 39,
   "metadata": {},
   "outputs": [
    {
     "name": "stdout",
     "output_type": "stream",
     "text": [
      "['Venezia']\n"
     ]
    }
   ],
   "source": [
    "lname = latest['LastName'].tolist()\n",
    "# print(lname)"
   ]
  },
  {
   "cell_type": "code",
   "execution_count": 52,
   "metadata": {},
   "outputs": [
    {
     "name": "stdout",
     "output_type": "stream",
     "text": [
      "['Gabriel Venezia']\n"
     ]
    }
   ],
   "source": [
    "names = []\n",
    "if len(fname) != 0:\n",
    "    for x in range(len(fname)):\n",
    "        names.append(f\"{fname[x]} {lname[x]}\")\n",
    "print(names)"
   ]
  },
  {
   "cell_type": "code",
   "execution_count": 54,
   "metadata": {},
   "outputs": [
    {
     "data": {
      "text/plain": [
       "str"
      ]
     },
     "execution_count": 54,
     "metadata": {},
     "output_type": "execute_result"
    }
   ],
   "source": [
    "type(df.iloc[1, 4])"
   ]
  },
  {
   "cell_type": "code",
   "execution_count": 55,
   "metadata": {},
   "outputs": [
    {
     "data": {
      "text/html": [
       "<div>\n",
       "<style scoped>\n",
       "    .dataframe tbody tr th:only-of-type {\n",
       "        vertical-align: middle;\n",
       "    }\n",
       "\n",
       "    .dataframe tbody tr th {\n",
       "        vertical-align: top;\n",
       "    }\n",
       "\n",
       "    .dataframe thead th {\n",
       "        text-align: right;\n",
       "    }\n",
       "</style>\n",
       "<table border=\"1\" class=\"dataframe\">\n",
       "  <thead>\n",
       "    <tr style=\"text-align: right;\">\n",
       "      <th></th>\n",
       "      <th>StuID</th>\n",
       "      <th>FirstName</th>\n",
       "      <th>LastName</th>\n",
       "      <th>PeriodNumber</th>\n",
       "      <th>Birthdate</th>\n",
       "      <th>Birthyear</th>\n",
       "      <th>Radio</th>\n",
       "      <th>Question#1</th>\n",
       "      <th>Question#2</th>\n",
       "      <th>Question#3</th>\n",
       "      <th>Timedelta</th>\n",
       "    </tr>\n",
       "  </thead>\n",
       "  <tbody>\n",
       "    <tr>\n",
       "      <th>1</th>\n",
       "      <td>415656</td>\n",
       "      <td>Brian</td>\n",
       "      <td>Cha</td>\n",
       "      <td>2</td>\n",
       "      <td>2020-06-17</td>\n",
       "      <td>2003</td>\n",
       "      <td>¯_(ツ)_/¯</td>\n",
       "      <td>In N Out</td>\n",
       "      <td>not getting my work done</td>\n",
       "      <td>procrastinating</td>\n",
       "      <td>1 days 00:00:00.000000000</td>\n",
       "    </tr>\n",
       "  </tbody>\n",
       "</table>\n",
       "</div>"
      ],
      "text/plain": [
       "    StuID FirstName LastName  PeriodNumber   Birthdate  Birthyear     Radio  \\\n",
       "1  415656     Brian      Cha             2  2020-06-17       2003  ¯_(ツ)_/¯   \n",
       "\n",
       "  Question#1                Question#2       Question#3  \\\n",
       "1   In N Out  not getting my work done  procrastinating   \n",
       "\n",
       "                   Timedelta  \n",
       "1  1 days 00:00:00.000000000  "
      ]
     },
     "execution_count": 55,
     "metadata": {},
     "output_type": "execute_result"
    }
   ],
   "source": [
    "df[df['Birthdate'] == df.iloc[1, 4]]"
   ]
  },
  {
   "cell_type": "code",
   "execution_count": null,
   "metadata": {},
   "outputs": [],
   "source": []
  }
 ],
 "metadata": {
  "kernelspec": {
   "display_name": "Python 3",
   "language": "python",
   "name": "python3"
  },
  "language_info": {
   "codemirror_mode": {
    "name": "ipython",
    "version": 3
   },
   "file_extension": ".py",
   "mimetype": "text/x-python",
   "name": "python",
   "nbconvert_exporter": "python",
   "pygments_lexer": "ipython3",
   "version": "3.7.6"
  }
 },
 "nbformat": 4,
 "nbformat_minor": 4
}
