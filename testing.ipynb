{
 "cells": [
  {
   "cell_type": "code",
   "execution_count": 1,
   "metadata": {},
   "outputs": [],
   "source": [
    "import pandas as pd"
   ]
  },
  {
   "cell_type": "code",
   "execution_count": 2,
   "metadata": {},
   "outputs": [],
   "source": [
    "import datetime"
   ]
  },
  {
   "cell_type": "code",
   "execution_count": 3,
   "metadata": {},
   "outputs": [],
   "source": [
    "df = pd.read_csv('beta_bdays.csv')"
   ]
  },
  {
   "cell_type": "code",
   "execution_count": 4,
   "metadata": {},
   "outputs": [
    {
     "name": "stdout",
     "output_type": "stream",
     "text": [
      "<class 'pandas.core.frame.DataFrame'>\n",
      "RangeIndex: 143 entries, 0 to 142\n",
      "Data columns (total 11 columns):\n",
      " #   Column        Non-Null Count  Dtype \n",
      "---  ------        --------------  ----- \n",
      " 0   StuID         143 non-null    int64 \n",
      " 1   FirstName     143 non-null    object\n",
      " 2   LastName      143 non-null    object\n",
      " 3   PeriodNumber  143 non-null    int64 \n",
      " 4   Birthdate     143 non-null    object\n",
      " 5   Birthyear     143 non-null    int64 \n",
      " 6   Radio         135 non-null    object\n",
      " 7   Question#1    140 non-null    object\n",
      " 8   Question#2    142 non-null    object\n",
      " 9   Question#3    142 non-null    object\n",
      " 10  Timedelta     143 non-null    object\n",
      "dtypes: int64(3), object(8)\n",
      "memory usage: 12.4+ KB\n"
     ]
    }
   ],
   "source": [
    "df.info()"
   ]
  },
  {
   "cell_type": "code",
   "execution_count": 6,
   "metadata": {
    "scrolled": true
   },
   "outputs": [],
   "source": [
    "df['Birthdate'], df['Timedelta'] = pd.to_datetime(df['Birthdate']), pd.to_timedelta(df['Timedelta'])"
   ]
  },
  {
   "cell_type": "code",
   "execution_count": 7,
   "metadata": {},
   "outputs": [
    {
     "name": "stdout",
     "output_type": "stream",
     "text": [
      "<class 'pandas.core.frame.DataFrame'>\n",
      "RangeIndex: 143 entries, 0 to 142\n",
      "Data columns (total 11 columns):\n",
      " #   Column        Non-Null Count  Dtype          \n",
      "---  ------        --------------  -----          \n",
      " 0   StuID         143 non-null    int64          \n",
      " 1   FirstName     143 non-null    object         \n",
      " 2   LastName      143 non-null    object         \n",
      " 3   PeriodNumber  143 non-null    int64          \n",
      " 4   Birthdate     143 non-null    datetime64[ns] \n",
      " 5   Birthyear     143 non-null    int64          \n",
      " 6   Radio         135 non-null    object         \n",
      " 7   Question#1    140 non-null    object         \n",
      " 8   Question#2    142 non-null    object         \n",
      " 9   Question#3    142 non-null    object         \n",
      " 10  Timedelta     143 non-null    timedelta64[ns]\n",
      "dtypes: datetime64[ns](1), int64(3), object(6), timedelta64[ns](1)\n",
      "memory usage: 12.4+ KB\n"
     ]
    }
   ],
   "source": [
    "df.info()"
   ]
  },
  {
   "cell_type": "code",
   "execution_count": 8,
   "metadata": {},
   "outputs": [
    {
     "data": {
      "text/plain": [
       "(143, 11)"
      ]
     },
     "execution_count": 8,
     "metadata": {},
     "output_type": "execute_result"
    }
   ],
   "source": [
    "df.shape"
   ]
  },
  {
   "cell_type": "code",
   "execution_count": 9,
   "metadata": {},
   "outputs": [
    {
     "name": "stdout",
     "output_type": "stream",
     "text": [
      "2020-06-17\n"
     ]
    }
   ],
   "source": [
    "print(datetime.date.today())"
   ]
  },
  {
   "cell_type": "code",
   "execution_count": 10,
   "metadata": {},
   "outputs": [
    {
     "data": {
      "text/plain": [
       "Timestamp('2020-06-16 00:00:00')"
      ]
     },
     "execution_count": 10,
     "metadata": {},
     "output_type": "execute_result"
    }
   ],
   "source": [
    "df.iloc[0, 4]"
   ]
  },
  {
   "cell_type": "code",
   "execution_count": 11,
   "metadata": {},
   "outputs": [
    {
     "data": {
      "text/plain": [
       "2020-12-08    3\n",
       "2020-05-08    3\n",
       "2020-02-24    3\n",
       "2020-12-11    3\n",
       "2020-12-10    3\n",
       "             ..\n",
       "2020-05-03    1\n",
       "2020-03-05    1\n",
       "2020-02-03    1\n",
       "2020-01-03    1\n",
       "2020-09-22    1\n",
       "Name: Birthdate, Length: 118, dtype: int64"
      ]
     },
     "execution_count": 11,
     "metadata": {},
     "output_type": "execute_result"
    }
   ],
   "source": [
    "df['Birthdate'].value_counts()"
   ]
  },
  {
   "cell_type": "code",
   "execution_count": 12,
   "metadata": {},
   "outputs": [],
   "source": [
    "today = [datetime.date.today()]"
   ]
  },
  {
   "cell_type": "code",
   "execution_count": 13,
   "metadata": {
    "scrolled": true
   },
   "outputs": [
    {
     "name": "stdout",
     "output_type": "stream",
     "text": [
      "2020-06-17\n"
     ]
    }
   ],
   "source": [
    "print(datetime.date.today())"
   ]
  },
  {
   "cell_type": "code",
   "execution_count": 14,
   "metadata": {},
   "outputs": [],
   "source": [
    "filt = df['Birthdate'].isin(today)"
   ]
  },
  {
   "cell_type": "code",
   "execution_count": 15,
   "metadata": {},
   "outputs": [
    {
     "data": {
      "text/plain": [
       "1   2020-06-17\n",
       "Name: Birthdate, dtype: datetime64[ns]"
      ]
     },
     "execution_count": 15,
     "metadata": {},
     "output_type": "execute_result"
    }
   ],
   "source": [
    "# this is a series\n",
    "df.loc[filt, 'Birthdate']"
   ]
  },
  {
   "cell_type": "code",
   "execution_count": 16,
   "metadata": {
    "scrolled": true
   },
   "outputs": [
    {
     "data": {
      "text/plain": [
       "pandas.core.series.Series"
      ]
     },
     "execution_count": 16,
     "metadata": {},
     "output_type": "execute_result"
    }
   ],
   "source": [
    "type(df['Birthdate'].isin(today))"
   ]
  },
  {
   "cell_type": "code",
   "execution_count": 20,
   "metadata": {},
   "outputs": [
    {
     "data": {
      "text/html": [
       "<div>\n",
       "<style scoped>\n",
       "    .dataframe tbody tr th:only-of-type {\n",
       "        vertical-align: middle;\n",
       "    }\n",
       "\n",
       "    .dataframe tbody tr th {\n",
       "        vertical-align: top;\n",
       "    }\n",
       "\n",
       "    .dataframe thead th {\n",
       "        text-align: right;\n",
       "    }\n",
       "</style>\n",
       "<table border=\"1\" class=\"dataframe\">\n",
       "  <thead>\n",
       "    <tr style=\"text-align: right;\">\n",
       "      <th></th>\n",
       "      <th>StuID</th>\n",
       "      <th>FirstName</th>\n",
       "      <th>LastName</th>\n",
       "      <th>PeriodNumber</th>\n",
       "      <th>Birthdate</th>\n",
       "      <th>Birthyear</th>\n",
       "      <th>Radio</th>\n",
       "      <th>Question#1</th>\n",
       "      <th>Question#2</th>\n",
       "      <th>Question#3</th>\n",
       "      <th>Timedelta</th>\n",
       "    </tr>\n",
       "  </thead>\n",
       "  <tbody>\n",
       "    <tr>\n",
       "      <th>1</th>\n",
       "      <td>415656</td>\n",
       "      <td>Brian</td>\n",
       "      <td>Cha</td>\n",
       "      <td>2</td>\n",
       "      <td>2020-06-17</td>\n",
       "      <td>2003</td>\n",
       "      <td>¯_(ツ)_/¯</td>\n",
       "      <td>In N Out</td>\n",
       "      <td>not getting my work done</td>\n",
       "      <td>procrastinating</td>\n",
       "      <td>1 days</td>\n",
       "    </tr>\n",
       "  </tbody>\n",
       "</table>\n",
       "</div>"
      ],
      "text/plain": [
       "    StuID FirstName LastName  PeriodNumber  Birthdate  Birthyear     Radio  \\\n",
       "1  415656     Brian      Cha             2 2020-06-17       2003  ¯_(ツ)_/¯   \n",
       "\n",
       "  Question#1                Question#2       Question#3 Timedelta  \n",
       "1   In N Out  not getting my work done  procrastinating    1 days  "
      ]
     },
     "execution_count": 20,
     "metadata": {},
     "output_type": "execute_result"
    }
   ],
   "source": [
    "df[filt]"
   ]
  },
  {
   "cell_type": "markdown",
   "metadata": {},
   "source": [
    "#### Note from Andres to Ryan:\n",
    "Try and avoid for loops at all costs when using pandas."
   ]
  },
  {
   "cell_type": "code",
   "execution_count": 18,
   "metadata": {
    "code_folding": [],
    "scrolled": false
   },
   "outputs": [
    {
     "name": "stdout",
     "output_type": "stream",
     "text": [
      "('StuID', 1    415656\n",
      "Name: StuID, dtype: int64)\n",
      "('FirstName', 1    Brian\n",
      "Name: FirstName, dtype: object)\n",
      "('LastName', 1    Cha\n",
      "Name: LastName, dtype: object)\n",
      "('PeriodNumber', 1    2\n",
      "Name: PeriodNumber, dtype: int64)\n",
      "('Birthdate', 1   2020-06-17\n",
      "Name: Birthdate, dtype: datetime64[ns])\n",
      "('Birthyear', 1    2003\n",
      "Name: Birthyear, dtype: int64)\n",
      "('Radio', 1    ¯_(ツ)_/¯\n",
      "Name: Radio, dtype: object)\n",
      "('Question#1', 1    In N Out\n",
      "Name: Question#1, dtype: object)\n",
      "('Question#2', 1    not getting my work done\n",
      "Name: Question#2, dtype: object)\n",
      "('Question#3', 1    procrastinating\n",
      "Name: Question#3, dtype: object)\n",
      "('Timedelta', 1   1 days\n",
      "Name: Timedelta, dtype: timedelta64[ns])\n"
     ]
    }
   ],
   "source": [
    "blist = []\n",
    "for births in df.loc[filt].iteritems():\n",
    "    blist.append(births)\n",
    "    print(f\"{births}\")\n",
    "# print(blist)"
   ]
  },
  {
   "cell_type": "code",
   "execution_count": 19,
   "metadata": {},
   "outputs": [
    {
     "name": "stdout",
     "output_type": "stream",
     "text": [
      "11\n"
     ]
    }
   ],
   "source": [
    "print(len(blist))"
   ]
  },
  {
   "cell_type": "code",
   "execution_count": 21,
   "metadata": {},
   "outputs": [],
   "source": [
    "latest = df.loc[df['Birthdate'] == datetime.date.today()]"
   ]
  },
  {
   "cell_type": "code",
   "execution_count": 23,
   "metadata": {},
   "outputs": [
    {
     "name": "stdout",
     "output_type": "stream",
     "text": [
      "[]\n"
     ]
    }
   ],
   "source": [
    "fname = latest['FirstName'].tolist()\n",
    "print(fname)"
   ]
  },
  {
   "cell_type": "code",
   "execution_count": 24,
   "metadata": {},
   "outputs": [
    {
     "name": "stdout",
     "output_type": "stream",
     "text": [
      "[]\n"
     ]
    }
   ],
   "source": [
    "lname = latest['LastName'].tolist()\n",
    "print(lname)"
   ]
  },
  {
   "cell_type": "code",
   "execution_count": 25,
   "metadata": {},
   "outputs": [
    {
     "name": "stdout",
     "output_type": "stream",
     "text": [
      "[]\n"
     ]
    }
   ],
   "source": [
    "names = []\n",
    "if len(fname) != 0:\n",
    "    for x in range(len(fname)):\n",
    "        names.append(f\"{fname[x]} {lname[x]}\")\n",
    "print(names)"
   ]
  },
  {
   "cell_type": "code",
   "execution_count": 26,
   "metadata": {},
   "outputs": [
    {
     "data": {
      "text/plain": [
       "pandas._libs.tslibs.timestamps.Timestamp"
      ]
     },
     "execution_count": 26,
     "metadata": {},
     "output_type": "execute_result"
    }
   ],
   "source": [
    "type(df.iloc[1, 4])"
   ]
  },
  {
   "cell_type": "code",
   "execution_count": 27,
   "metadata": {},
   "outputs": [
    {
     "data": {
      "text/html": [
       "<div>\n",
       "<style scoped>\n",
       "    .dataframe tbody tr th:only-of-type {\n",
       "        vertical-align: middle;\n",
       "    }\n",
       "\n",
       "    .dataframe tbody tr th {\n",
       "        vertical-align: top;\n",
       "    }\n",
       "\n",
       "    .dataframe thead th {\n",
       "        text-align: right;\n",
       "    }\n",
       "</style>\n",
       "<table border=\"1\" class=\"dataframe\">\n",
       "  <thead>\n",
       "    <tr style=\"text-align: right;\">\n",
       "      <th></th>\n",
       "      <th>StuID</th>\n",
       "      <th>FirstName</th>\n",
       "      <th>LastName</th>\n",
       "      <th>PeriodNumber</th>\n",
       "      <th>Birthdate</th>\n",
       "      <th>Birthyear</th>\n",
       "      <th>Radio</th>\n",
       "      <th>Question#1</th>\n",
       "      <th>Question#2</th>\n",
       "      <th>Question#3</th>\n",
       "      <th>Timedelta</th>\n",
       "    </tr>\n",
       "  </thead>\n",
       "  <tbody>\n",
       "    <tr>\n",
       "      <th>1</th>\n",
       "      <td>415656</td>\n",
       "      <td>Brian</td>\n",
       "      <td>Cha</td>\n",
       "      <td>2</td>\n",
       "      <td>2020-06-17</td>\n",
       "      <td>2003</td>\n",
       "      <td>¯_(ツ)_/¯</td>\n",
       "      <td>In N Out</td>\n",
       "      <td>not getting my work done</td>\n",
       "      <td>procrastinating</td>\n",
       "      <td>1 days</td>\n",
       "    </tr>\n",
       "  </tbody>\n",
       "</table>\n",
       "</div>"
      ],
      "text/plain": [
       "    StuID FirstName LastName  PeriodNumber  Birthdate  Birthyear     Radio  \\\n",
       "1  415656     Brian      Cha             2 2020-06-17       2003  ¯_(ツ)_/¯   \n",
       "\n",
       "  Question#1                Question#2       Question#3 Timedelta  \n",
       "1   In N Out  not getting my work done  procrastinating    1 days  "
      ]
     },
     "execution_count": 27,
     "metadata": {},
     "output_type": "execute_result"
    }
   ],
   "source": [
    "df[df['Birthdate'] == df.iloc[1, 4]]"
   ]
  }
 ],
 "metadata": {
  "kernelspec": {
   "display_name": "Python 3",
   "language": "python",
   "name": "python3"
  },
  "language_info": {
   "codemirror_mode": {
    "name": "ipython",
    "version": 3
   },
   "file_extension": ".py",
   "mimetype": "text/x-python",
   "name": "python",
   "nbconvert_exporter": "python",
   "pygments_lexer": "ipython3",
   "version": "3.7.6"
  },
  "nbTranslate": {
   "displayLangs": [
    "*"
   ],
   "hotkey": "alt-t",
   "langInMainMenu": true,
   "sourceLang": "en",
   "targetLang": "fr",
   "useGoogleTranslate": true
  },
  "varInspector": {
   "cols": {
    "lenName": 16,
    "lenType": 16,
    "lenVar": 40
   },
   "kernels_config": {
    "python": {
     "delete_cmd_postfix": "",
     "delete_cmd_prefix": "del ",
     "library": "var_list.py",
     "varRefreshCmd": "print(var_dic_list())"
    },
    "r": {
     "delete_cmd_postfix": ") ",
     "delete_cmd_prefix": "rm(",
     "library": "var_list.r",
     "varRefreshCmd": "cat(var_dic_list()) "
    }
   },
   "types_to_exclude": [
    "module",
    "function",
    "builtin_function_or_method",
    "instance",
    "_Feature"
   ],
   "window_display": false
  }
 },
 "nbformat": 4,
 "nbformat_minor": 4
}
